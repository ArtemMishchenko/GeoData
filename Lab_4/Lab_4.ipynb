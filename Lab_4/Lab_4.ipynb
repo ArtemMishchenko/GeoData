{
 "cells": [
  {
   "cell_type": "code",
   "execution_count": 1,
   "id": "166dba00-7f92-43db-9341-21a0ba1d9a62",
   "metadata": {
    "tags": []
   },
   "outputs": [],
   "source": [
    "import geopandas\n",
    "\n",
    "data = geopandas.read_file(\"C:/Users/PC/OneDrive/Робочий стіл/Geo/Lab_3/example_dataset.geojson\")"
   ]
  },
  {
   "cell_type": "code",
   "execution_count": 2,
   "id": "4d16d58a-6bb6-41b1-a67c-5d92d7d0e736",
   "metadata": {
    "tags": []
   },
   "outputs": [
    {
     "name": "stdout",
     "output_type": "stream",
     "text": [
      "The number of fields that were not sown in April: 421\n",
      "['2016-05-02', '2016-05-02', '2016-05-03', '2016-05-03', '2016-05-05', '2016-05-05', '2016-05-05', '2016-05-06', '2016-05-07', '2016-05-07', '2016-05-21', '2016-05-21', '2017-05-01', '2017-05-01', '2017-05-01', '2017-05-01', '2017-05-01', '2017-05-01', '2017-05-01', '2017-05-01', '2017-05-01', '2017-05-01', '2017-05-02', '2017-05-02', '2017-05-02', '2017-05-02', '2017-05-02', '2017-05-02', '2017-05-02', '2017-05-02', '2017-05-02', '2017-05-02', '2017-05-02', '2017-05-02', '2017-05-02', '2017-05-02', '2017-05-02', '2017-05-02', '2017-05-02', '2017-05-02', '2017-05-02', '2017-05-03', '2017-05-03', '2017-05-03', '2017-05-03', '2017-05-03', '2017-05-03', '2017-05-03', '2017-05-03', '2017-05-03', '2017-05-03', '2017-05-03', '2017-05-03', '2017-05-03', '2017-05-03', '2017-05-03', '2017-05-03', '2017-05-03', '2017-05-03', '2017-05-03', '2017-05-03', '2017-05-03', '2017-05-04', '2017-05-04', '2017-05-04', '2017-05-04', '2017-05-04', '2017-05-04', '2017-05-04', '2017-05-04', '2017-05-04', '2017-05-04', '2017-05-04', '2017-05-04', '2017-05-04', '2017-05-04', '2017-05-04', '2017-05-04', '2017-05-04', '2017-05-04', '2017-05-04', '2017-05-04', '2017-05-04', '2017-05-05', '2017-05-05', '2017-05-05', '2017-05-05', '2017-05-05', '2017-05-05', '2017-05-05', '2017-05-05', '2017-05-05', '2017-05-05', '2017-05-05', '2017-05-05', '2017-05-05', '2017-05-05', '2017-05-05', '2017-05-05', '2017-05-05', '2017-05-05', '2017-05-05', '2017-05-05', '2017-05-05', '2017-05-05', '2017-05-05', '2017-05-06', '2017-05-06', '2017-05-06', '2017-05-06', '2017-05-06', '2017-05-06', '2017-05-06', '2017-05-06', '2017-05-06', '2017-05-06', '2017-05-06', '2017-05-06', '2017-05-06', '2017-05-06', '2017-05-06', '2017-05-06', '2017-05-06', '2017-05-06', '2017-05-06', '2017-05-06', '2017-05-06', '2017-05-06', '2017-05-07', '2017-05-07', '2017-05-07', '2017-05-07', '2017-05-07', '2017-05-07', '2017-05-07', '2017-05-07', '2017-05-07', '2017-05-07', '2017-05-07', '2017-05-07', '2017-05-07', '2017-05-07', '2017-05-07', '2017-05-07', '2017-05-07', '2017-05-07', '2017-05-08', '2017-05-09', '2017-05-09', '2017-05-09', '2017-05-09', '2017-05-09', '2017-05-09', '2017-05-09', '2017-05-09', '2017-05-10', '2017-05-10', '2017-05-10', '2017-05-10', '2017-05-10', '2017-05-10', '2017-05-10', '2017-05-11', '2017-05-11', '2017-05-11', '2017-05-11', '2017-05-11', '2017-05-11', '2018-05-01', '2018-05-01', '2018-05-01', '2018-05-01', '2018-05-01', '2018-05-01', '2018-05-01', '2018-05-01', '2018-05-01', '2018-05-01', '2018-05-01', '2018-05-01', '2018-05-01', '2018-05-01', '2018-05-01', '2018-05-01', '2018-05-01', '2018-05-01', '2018-05-01', '2018-05-01', '2018-05-01', '2018-05-01', '2018-05-01', '2018-05-01', '2018-05-01', '2018-05-01', '2018-05-01', '2018-05-01', '2018-05-01', '2018-05-01', '2018-05-01', '2018-05-01', '2018-05-01', '2018-05-01', '2018-05-01', '2018-05-02', '2018-05-02', '2018-05-02', '2018-05-02', '2018-05-02', '2018-05-02', '2018-05-02', '2018-05-02', '2018-05-02', '2018-05-02', '2018-05-02', '2018-05-02', '2018-05-02', '2018-05-02', '2018-05-02', '2018-05-02', '2018-05-02', '2018-05-02', '2018-05-03', '2018-05-03', '2018-05-03', '2018-05-03', '2018-05-03', '2018-05-04', '2018-05-04', '2018-05-04', '2018-05-05', '2018-05-15', '2016-05-02', '2016-05-02', '2016-05-03', '2016-05-03', '2016-05-04', '2016-05-04', '2016-05-04', '2016-05-04', '2016-05-04', '2016-05-05', '2016-05-05', '2016-05-05', '2016-05-05', '2016-05-05', '2016-05-05', '2016-05-06', '2016-05-06', '2016-05-06', '2016-05-06', '2016-05-06', '2016-05-06', '2016-05-06', '2016-05-06', '2016-05-07', '2016-05-07', '2016-05-07', '2016-05-08', '2016-05-08', '2016-05-08', '2016-05-08', '2016-05-08', '2016-05-09', '2016-05-09', '2016-05-09', '2016-05-09', '2016-05-09', '2016-05-09', '2016-05-10', '2016-05-10', '2016-05-10', '2016-05-10', '2016-05-23', '2016-05-23', '2016-05-23', '2016-05-23', '2016-06-13', '2017-05-01', '2017-05-01', '2017-05-02', '2017-05-02', '2017-05-04', '2017-05-06', '2017-05-06', '2017-05-06', '2017-05-06', '2017-05-07', '2017-05-07', '2017-05-09', '2017-05-09', '2017-05-09', '2017-05-09', '2017-05-09', '2017-05-09', '2017-05-09', '2017-05-09', '2017-05-10', '2017-05-10', '2017-05-10', '2017-05-10', '2017-05-10', '2017-05-10', '2017-05-10', '2017-05-10', '2017-05-10', '2017-05-11', '2017-05-11', '2017-05-11', '2017-05-11', '2017-05-12', '2017-05-12', '2017-05-12', '2017-05-12', '2017-05-13', '2017-05-13', '2017-05-13', '2017-05-13', '2017-05-14', '2017-05-15', '2017-05-15', '2017-05-15', '2017-05-15', '2017-05-15', '2017-05-15', '2017-05-15', '2017-05-15', '2017-05-16', '2017-05-16', '2017-05-16', '2017-05-16', '2017-05-16', '2017-05-16', '2017-05-16', '2017-05-17', '2017-05-17', '2017-05-17', '2017-05-17', '2017-05-17', '2017-05-17', '2017-05-18', '2017-05-18', '2017-05-18', '2017-05-20', '2017-05-20', '2017-05-20', '2017-05-20', '2017-05-21', '2017-05-22', '2018-05-01', '2018-05-01', '2018-05-01', '2018-05-01', '2018-05-01', '2018-05-01', '2018-05-01', '2018-05-02', '2018-05-02', '2018-05-02', '2018-05-02', '2018-05-02', '2018-05-02', '2018-05-02', '2018-05-02', '2018-05-02', '2018-05-03', '2018-05-03', '2018-05-03', '2018-05-03', '2018-05-03', '2018-05-03', '2018-05-03', '2018-05-03', '2018-05-03', '2018-05-03', '2018-05-04', '2018-05-04', '2018-05-04', '2018-05-04', '2018-05-04', '2018-05-04', '2018-05-04', '2018-05-04', '2018-05-04', '2018-05-04', '2018-05-04', '2018-05-04', '2018-05-04', '2018-05-05', '2018-05-05', '2018-05-05', '2018-05-05', '2018-05-05', '2018-05-05', '2018-05-05', '2018-05-05', '2018-05-05', '2018-05-05', '2018-05-06', '2018-05-06', '2018-05-07', '2018-05-07', '2018-05-07', '2018-05-08', '2018-05-08', '2018-05-08', '2018-05-08', '2018-05-08', '2018-05-08', '2018-05-09', '2018-05-09', '2018-05-09', '2018-05-09', '2018-05-09', '2018-05-09', '2018-05-10', '2016-03-17', '2016-03-17', '2016-03-18', '2016-03-19', '2016-03-30', '2016-03-30']\n"
     ]
    }
   ],
   "source": [
    "sowing_date_list = data['sowing_date'].tolist()\n",
    "filtered_sowing_date_list = list(filter(lambda x: not '-04-' in x, sowing_date_list))\n",
    "print(f'The number of fields that were not sown in April: {len(filtered_sowing_date_list)}')\n",
    "print(filtered_sowing_date_list)"
   ]
  },
  {
   "cell_type": "code",
   "execution_count": 3,
   "id": "061fd746-e589-4b72-baa8-dba39f05babb",
   "metadata": {
    "tags": []
   },
   "outputs": [
    {
     "data": {
      "text/html": [
       "<div>\n",
       "<style scoped>\n",
       "    .dataframe tbody tr th:only-of-type {\n",
       "        vertical-align: middle;\n",
       "    }\n",
       "\n",
       "    .dataframe tbody tr th {\n",
       "        vertical-align: top;\n",
       "    }\n",
       "\n",
       "    .dataframe thead th {\n",
       "        text-align: right;\n",
       "    }\n",
       "</style>\n",
       "<table border=\"1\" class=\"dataframe\">\n",
       "  <thead>\n",
       "    <tr style=\"text-align: right;\">\n",
       "      <th></th>\n",
       "      <th>crop_name</th>\n",
       "      <th>sowing_date</th>\n",
       "      <th>actual_yield</th>\n",
       "      <th>field_id</th>\n",
       "      <th>avg_temperature</th>\n",
       "      <th>avg_rainfall</th>\n",
       "      <th>model_yield</th>\n",
       "      <th>geometry</th>\n",
       "      <th>relative_error</th>\n",
       "    </tr>\n",
       "  </thead>\n",
       "  <tbody>\n",
       "    <tr>\n",
       "      <th>0</th>\n",
       "      <td>maiz</td>\n",
       "      <td>2016-04-10</td>\n",
       "      <td>7600.0</td>\n",
       "      <td>MS_VN_03_407</td>\n",
       "      <td>11.547103</td>\n",
       "      <td>572.463009</td>\n",
       "      <td>8903.0</td>\n",
       "      <td>MULTIPOLYGON (((28.16611 49.21513, 28.16624 49...</td>\n",
       "      <td>0.171447</td>\n",
       "    </tr>\n",
       "    <tr>\n",
       "      <th>1</th>\n",
       "      <td>maiz</td>\n",
       "      <td>2016-04-11</td>\n",
       "      <td>7900.0</td>\n",
       "      <td>MS_VN_03_405</td>\n",
       "      <td>11.547103</td>\n",
       "      <td>574.831401</td>\n",
       "      <td>8814.0</td>\n",
       "      <td>MULTIPOLYGON (((28.16966 49.19427, 28.16936 49...</td>\n",
       "      <td>0.115696</td>\n",
       "    </tr>\n",
       "    <tr>\n",
       "      <th>2</th>\n",
       "      <td>maiz</td>\n",
       "      <td>2016-04-12</td>\n",
       "      <td>7900.0</td>\n",
       "      <td>PA_KM_05_1802</td>\n",
       "      <td>12.190627</td>\n",
       "      <td>637.703767</td>\n",
       "      <td>8317.0</td>\n",
       "      <td>MULTIPOLYGON (((27.30659 48.87534, 27.30674 48...</td>\n",
       "      <td>0.052785</td>\n",
       "    </tr>\n",
       "  </tbody>\n",
       "</table>\n",
       "</div>"
      ],
      "text/plain": [
       "  crop_name sowing_date  actual_yield       field_id  avg_temperature  \\\n",
       "0      maiz  2016-04-10        7600.0   MS_VN_03_407        11.547103   \n",
       "1      maiz  2016-04-11        7900.0   MS_VN_03_405        11.547103   \n",
       "2      maiz  2016-04-12        7900.0  PA_KM_05_1802        12.190627   \n",
       "\n",
       "   avg_rainfall  model_yield  \\\n",
       "0    572.463009       8903.0   \n",
       "1    574.831401       8814.0   \n",
       "2    637.703767       8317.0   \n",
       "\n",
       "                                            geometry  relative_error  \n",
       "0  MULTIPOLYGON (((28.16611 49.21513, 28.16624 49...        0.171447  \n",
       "1  MULTIPOLYGON (((28.16966 49.19427, 28.16936 49...        0.115696  \n",
       "2  MULTIPOLYGON (((27.30659 48.87534, 27.30674 48...        0.052785  "
      ]
     },
     "execution_count": 3,
     "metadata": {},
     "output_type": "execute_result"
    }
   ],
   "source": [
    "data['relative_error'] = abs((data['actual_yield'] - data['model_yield']) / data['actual_yield'])\n",
    "data.head(3)"
   ]
  },
  {
   "cell_type": "code",
   "execution_count": 4,
   "id": "e20e3227-dcfe-4ae2-8aec-41424a5fa8d1",
   "metadata": {
    "tags": []
   },
   "outputs": [
    {
     "name": "stdout",
     "output_type": "stream",
     "text": [
      "The field with the largest relative error:\n",
      "crop_name                                                       maiz\n",
      "sowing_date                                               2017-04-28\n",
      "actual_yield                                                  1500.0\n",
      "field_id                                                KI_VN_08_405\n",
      "avg_temperature                                            11.707561\n",
      "avg_rainfall                                              641.750403\n",
      "model_yield                                                   6262.0\n",
      "geometry           MULTIPOLYGON (((29.395252000008373 48.23347100...\n",
      "relative_error                                              3.174667\n",
      "Name: 213, dtype: object\n",
      "\n",
      "The field with the smallest relative error:\n",
      "crop_name                                                        soy\n",
      "sowing_date                                               2018-05-09\n",
      "actual_yield                                                  2600.0\n",
      "field_id                                               KI_VN_10_0702\n",
      "avg_temperature                                            13.084752\n",
      "avg_rainfall                                              633.554513\n",
      "model_yield                                                   2603.0\n",
      "geometry           MULTIPOLYGON (((28.697984661201634 49.34165148...\n",
      "relative_error                                              0.001154\n",
      "Name: 991, dtype: object\n"
     ]
    }
   ],
   "source": [
    "max_relative_error = data.loc[data['relative_error'].idxmax()]\n",
    "min_relative_error = data.loc[data['relative_error'].idxmin()]\n",
    "\n",
    "print(\"The field with the largest relative error:\")\n",
    "print(max_relative_error)\n",
    "print(\"\\nThe field with the smallest relative error:\")\n",
    "print(min_relative_error)"
   ]
  },
  {
   "cell_type": "code",
   "execution_count": 5,
   "id": "6cf59695-c67a-4a5d-a3ed-f00d2ffe72c2",
   "metadata": {
    "tags": []
   },
   "outputs": [
    {
     "data": {
      "text/html": [
       "<div>\n",
       "<style scoped>\n",
       "    .dataframe tbody tr th:only-of-type {\n",
       "        vertical-align: middle;\n",
       "    }\n",
       "\n",
       "    .dataframe tbody tr th {\n",
       "        vertical-align: top;\n",
       "    }\n",
       "\n",
       "    .dataframe thead th {\n",
       "        text-align: right;\n",
       "    }\n",
       "</style>\n",
       "<table border=\"1\" class=\"dataframe\">\n",
       "  <thead>\n",
       "    <tr style=\"text-align: right;\">\n",
       "      <th></th>\n",
       "      <th>crop_name</th>\n",
       "      <th>sowing_date</th>\n",
       "      <th>actual_yield</th>\n",
       "      <th>field_id</th>\n",
       "      <th>avg_temperature</th>\n",
       "      <th>avg_rainfall</th>\n",
       "      <th>model_yield</th>\n",
       "      <th>geometry</th>\n",
       "      <th>relative_error</th>\n",
       "      <th>centroid</th>\n",
       "    </tr>\n",
       "  </thead>\n",
       "  <tbody>\n",
       "    <tr>\n",
       "      <th>0</th>\n",
       "      <td>maiz</td>\n",
       "      <td>2016-04-10</td>\n",
       "      <td>7600.0</td>\n",
       "      <td>MS_VN_03_407</td>\n",
       "      <td>11.547103</td>\n",
       "      <td>572.463009</td>\n",
       "      <td>8903.0</td>\n",
       "      <td>MULTIPOLYGON (((28.16611 49.21513, 28.16624 49...</td>\n",
       "      <td>0.171447</td>\n",
       "      <td>(28.163550050982856, 49.21292290278466)</td>\n",
       "    </tr>\n",
       "    <tr>\n",
       "      <th>1</th>\n",
       "      <td>maiz</td>\n",
       "      <td>2016-04-11</td>\n",
       "      <td>7900.0</td>\n",
       "      <td>MS_VN_03_405</td>\n",
       "      <td>11.547103</td>\n",
       "      <td>574.831401</td>\n",
       "      <td>8814.0</td>\n",
       "      <td>MULTIPOLYGON (((28.16966 49.19427, 28.16936 49...</td>\n",
       "      <td>0.115696</td>\n",
       "      <td>(28.159578591149135, 49.20347653068863)</td>\n",
       "    </tr>\n",
       "    <tr>\n",
       "      <th>2</th>\n",
       "      <td>maiz</td>\n",
       "      <td>2016-04-12</td>\n",
       "      <td>7900.0</td>\n",
       "      <td>PA_KM_05_1802</td>\n",
       "      <td>12.190627</td>\n",
       "      <td>637.703767</td>\n",
       "      <td>8317.0</td>\n",
       "      <td>MULTIPOLYGON (((27.30659 48.87534, 27.30674 48...</td>\n",
       "      <td>0.052785</td>\n",
       "      <td>(27.299554944355855, 48.87374976936321)</td>\n",
       "    </tr>\n",
       "  </tbody>\n",
       "</table>\n",
       "</div>"
      ],
      "text/plain": [
       "  crop_name sowing_date  actual_yield       field_id  avg_temperature  \\\n",
       "0      maiz  2016-04-10        7600.0   MS_VN_03_407        11.547103   \n",
       "1      maiz  2016-04-11        7900.0   MS_VN_03_405        11.547103   \n",
       "2      maiz  2016-04-12        7900.0  PA_KM_05_1802        12.190627   \n",
       "\n",
       "   avg_rainfall  model_yield  \\\n",
       "0    572.463009       8903.0   \n",
       "1    574.831401       8814.0   \n",
       "2    637.703767       8317.0   \n",
       "\n",
       "                                            geometry  relative_error  \\\n",
       "0  MULTIPOLYGON (((28.16611 49.21513, 28.16624 49...        0.171447   \n",
       "1  MULTIPOLYGON (((28.16966 49.19427, 28.16936 49...        0.115696   \n",
       "2  MULTIPOLYGON (((27.30659 48.87534, 27.30674 48...        0.052785   \n",
       "\n",
       "                                  centroid  \n",
       "0  (28.163550050982856, 49.21292290278466)  \n",
       "1  (28.159578591149135, 49.20347653068863)  \n",
       "2  (27.299554944355855, 48.87374976936321)  "
      ]
     },
     "execution_count": 5,
     "metadata": {},
     "output_type": "execute_result"
    }
   ],
   "source": [
    "data['centroid'] = ''\n",
    "for index, row in data.iterrows():\n",
    "    centroid = row.geometry.centroid\n",
    "    data.at[index, 'centroid'] = f'({centroid.x}, {centroid.y})'\n",
    "data.head(3)"
   ]
  },
  {
   "cell_type": "code",
   "execution_count": 6,
   "id": "14c13f42-9136-478f-8002-84c4dc4439e5",
   "metadata": {
    "tags": []
   },
   "outputs": [
    {
     "data": {
      "text/html": [
       "<div>\n",
       "<style scoped>\n",
       "    .dataframe tbody tr th:only-of-type {\n",
       "        vertical-align: middle;\n",
       "    }\n",
       "\n",
       "    .dataframe tbody tr th {\n",
       "        vertical-align: top;\n",
       "    }\n",
       "\n",
       "    .dataframe thead th {\n",
       "        text-align: right;\n",
       "    }\n",
       "</style>\n",
       "<table border=\"1\" class=\"dataframe\">\n",
       "  <thead>\n",
       "    <tr style=\"text-align: right;\">\n",
       "      <th></th>\n",
       "      <th>crop_name</th>\n",
       "      <th>sowing_date</th>\n",
       "      <th>actual_yield</th>\n",
       "      <th>field_id</th>\n",
       "      <th>avg_temperature</th>\n",
       "      <th>avg_rainfall</th>\n",
       "      <th>model_yield</th>\n",
       "      <th>geometry</th>\n",
       "      <th>relative_error</th>\n",
       "      <th>centroid</th>\n",
       "      <th>area(m²)</th>\n",
       "    </tr>\n",
       "  </thead>\n",
       "  <tbody>\n",
       "    <tr>\n",
       "      <th>0</th>\n",
       "      <td>maiz</td>\n",
       "      <td>2016-04-10</td>\n",
       "      <td>7600.0</td>\n",
       "      <td>MS_VN_03_407</td>\n",
       "      <td>11.547103</td>\n",
       "      <td>572.463009</td>\n",
       "      <td>8903.0</td>\n",
       "      <td>MULTIPOLYGON (((584923.210 5452025.816, 584932...</td>\n",
       "      <td>0.171447</td>\n",
       "      <td>(28.163550050982856, 49.21292290278466)</td>\n",
       "      <td>3.165564e+05</td>\n",
       "    </tr>\n",
       "    <tr>\n",
       "      <th>1</th>\n",
       "      <td>maiz</td>\n",
       "      <td>2016-04-11</td>\n",
       "      <td>7900.0</td>\n",
       "      <td>MS_VN_03_405</td>\n",
       "      <td>11.547103</td>\n",
       "      <td>574.831401</td>\n",
       "      <td>8814.0</td>\n",
       "      <td>MULTIPOLYGON (((585217.656 5449710.777, 585195...</td>\n",
       "      <td>0.115696</td>\n",
       "      <td>(28.159578591149135, 49.20347653068863)</td>\n",
       "      <td>2.142645e+06</td>\n",
       "    </tr>\n",
       "    <tr>\n",
       "      <th>2</th>\n",
       "      <td>maiz</td>\n",
       "      <td>2016-04-12</td>\n",
       "      <td>7900.0</td>\n",
       "      <td>PA_KM_05_1802</td>\n",
       "      <td>12.190627</td>\n",
       "      <td>637.703767</td>\n",
       "      <td>8317.0</td>\n",
       "      <td>MULTIPOLYGON (((522480.737 5413643.268, 522491...</td>\n",
       "      <td>0.052785</td>\n",
       "      <td>(27.299554944355855, 48.87374976936321)</td>\n",
       "      <td>2.192922e+05</td>\n",
       "    </tr>\n",
       "  </tbody>\n",
       "</table>\n",
       "</div>"
      ],
      "text/plain": [
       "  crop_name sowing_date  actual_yield       field_id  avg_temperature  \\\n",
       "0      maiz  2016-04-10        7600.0   MS_VN_03_407        11.547103   \n",
       "1      maiz  2016-04-11        7900.0   MS_VN_03_405        11.547103   \n",
       "2      maiz  2016-04-12        7900.0  PA_KM_05_1802        12.190627   \n",
       "\n",
       "   avg_rainfall  model_yield  \\\n",
       "0    572.463009       8903.0   \n",
       "1    574.831401       8814.0   \n",
       "2    637.703767       8317.0   \n",
       "\n",
       "                                            geometry  relative_error  \\\n",
       "0  MULTIPOLYGON (((584923.210 5452025.816, 584932...        0.171447   \n",
       "1  MULTIPOLYGON (((585217.656 5449710.777, 585195...        0.115696   \n",
       "2  MULTIPOLYGON (((522480.737 5413643.268, 522491...        0.052785   \n",
       "\n",
       "                                  centroid      area(m²)  \n",
       "0  (28.163550050982856, 49.21292290278466)  3.165564e+05  \n",
       "1  (28.159578591149135, 49.20347653068863)  2.142645e+06  \n",
       "2  (27.299554944355855, 48.87374976936321)  2.192922e+05  "
      ]
     },
     "execution_count": 6,
     "metadata": {},
     "output_type": "execute_result"
    }
   ],
   "source": [
    "data = data.to_crs(32635)\n",
    "data['area(m²)'] = data.area\n",
    "data.head(3)"
   ]
  },
  {
   "cell_type": "code",
   "execution_count": 8,
   "id": "c7b85b53-7c8f-41cf-9e5d-ba4033103340",
   "metadata": {
    "tags": []
   },
   "outputs": [
    {
     "data": {
      "text/plain": [
       "<AxesSubplot:xlabel='avg_temperature', ylabel='actual_yield'>"
      ]
     },
     "execution_count": 8,
     "metadata": {},
     "output_type": "execute_result"
    },
    {
     "data": {
      "image/png": "[encoded data removed]",
      "text/plain": [
       "<Figure size 432x288 with 1 Axes>"
      ]
     },
     "metadata": {
      "needs_background": "light"
     },
     "output_type": "display_data"
    }
   ],
   "source": [
    "data.plot(x='avg_temperature', y='actual_yield', kind='scatter')\n"
   ]
  },
  {
   "cell_type": "code",
   "execution_count": 9,
   "id": "50696424-1c34-454b-8c5a-664cfa668a6d",
   "metadata": {
    "tags": []
   },
   "outputs": [
    {
     "data": {
      "text/plain": [
       "<AxesSubplot:xlabel='avg_temperature', ylabel='avg_rainfall'>"
      ]
     },
     "execution_count": 9,
     "metadata": {},
     "output_type": "execute_result"
    },
    {
     "data": {
      "image/png": "[encoded data removed]",
      "text/plain": [
       "<Figure size 432x288 with 1 Axes>"
      ]
     },
     "metadata": {
      "needs_background": "light"
     },
     "output_type": "display_data"
    }
   ],
   "source": [
    "data.plot(x='avg_temperature', y='avg_rainfall', kind='scatter')"
   ]
  },
  {
   "cell_type": "code",
   "execution_count": 14,
   "id": "9fdf0d1f-7ca5-4f4f-81af-770fb8949319",
   "metadata": {
    "tags": []
   },
   "outputs": [],
   "source": [
    "data.to_file('C:/Users/PC/OneDrive/Робочий стіл/Geo/Lab_4/updated_dataset.geojson',\n",
    "             driver='GeoJSON')"
   ]
  },
  {
   "cell_type": "code",
   "execution_count": null,
   "id": "940e5c90-6194-41eb-a3c4-3358ef59f6fc",
   "metadata": {},
   "outputs": [],
   "source": []
  }
 ],
 "metadata": {
  "kernelspec": {
   "display_name": "Python 3 (ipykernel)",
   "language": "python",
   "name": "python3"
  },
  "language_info": {
   "codemirror_mode": {
    "name": "ipython",
    "version": 3
   },
   "file_extension": ".py",
   "mimetype": "text/x-python",
   "name": "python",
   "nbconvert_exporter": "python",
   "pygments_lexer": "ipython3",
   "version": "3.9.4"
  }
 },
 "nbformat": 4,
 "nbformat_minor": 5
}
