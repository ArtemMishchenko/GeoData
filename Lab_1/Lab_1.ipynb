{
 "cells": [
  {
   "cell_type": "code",
   "execution_count": 1,
   "id": "5af645e8-ada2-46c5-b9fd-fedc5a0e1dc4",
   "metadata": {
    "tags": []
   },
   "outputs": [],
   "source": [
    "import rasterio\n",
    "\n",
    "dataset = rasterio.open(r\"C:/Users/PC/OneDrive/Робочий стіл/Geo/Lab_1/soil_m.tif\")"
   ]
  },
  {
   "cell_type": "code",
   "execution_count": 2,
   "id": "f1100ecb-3c76-41d1-9adb-e62f56709c33",
   "metadata": {
    "tags": []
   },
   "outputs": [
    {
     "data": {
      "text/plain": [
       "CRS.from_epsg(4326)"
      ]
     },
     "execution_count": 2,
     "metadata": {},
     "output_type": "execute_result"
    }
   ],
   "source": [
    "dataset.crs"
   ]
  },
  {
   "cell_type": "code",
   "execution_count": 3,
   "id": "51da37cf-fc2e-4f58-8314-a9aadcb5abb5",
   "metadata": {
    "tags": []
   },
   "outputs": [
    {
     "data": {
      "text/plain": [
       "BoundingBox(left=29.566633136000007, bottom=49.434589403000004, right=31.185382877000006, top=50.486672568)"
      ]
     },
     "execution_count": 3,
     "metadata": {},
     "output_type": "execute_result"
    }
   ],
   "source": [
    "dataset.bounds"
   ]
  },
  {
   "cell_type": "code",
   "execution_count": 4,
   "id": "d203d7b5-57e0-4128-aefc-0bd2803d8a84",
   "metadata": {
    "tags": []
   },
   "outputs": [
    {
     "data": {
      "text/plain": [
       "array([[65535, 65535, 65535, ..., 65535, 65535, 65535],\n",
       "       [65535, 65535, 65535, ..., 65535, 65535, 65535],\n",
       "       [65535, 65535, 65535, ..., 65535, 65535, 65535],\n",
       "       ...,\n",
       "       [65535, 65535, 65535, ..., 65535, 65535, 65535],\n",
       "       [65535, 65535, 65535, ..., 65535, 65535, 65535],\n",
       "       [65535, 65535, 65535, ..., 65535, 65535, 65535]], dtype=uint16)"
      ]
     },
     "execution_count": 4,
     "metadata": {},
     "output_type": "execute_result"
    }
   ],
   "source": [
    "array = dataset.read(1)\n",
    "dataset.close()\n",
    "array"
   ]
  },
  {
   "cell_type": "code",
   "execution_count": 5,
   "id": "6525ef6a-94c5-451c-b41a-a9372f2ec02e",
   "metadata": {
    "tags": []
   },
   "outputs": [
    {
     "name": "stdout",
     "output_type": "stream",
     "text": [
      "К-сть точок, які містять помилку при розрахунках: 223205\n",
      "К-сть точок, які містять правильне значення вологості: 169180\n"
     ]
    }
   ],
   "source": [
    "count_correct_points = 0\n",
    "count_wrong_points = 0\n",
    "for element in array.flat:\n",
    "    if element == 65535:\n",
    "        count_wrong_points += 1\n",
    "    else:\n",
    "        count_correct_points+=1\n",
    "        \n",
    "print(f'К-сть точок, які містять помилку при розрахунках: {array[array == 65535].size}')\n",
    "print(f'К-сть точок, які містять правильне значення вологості: {array[array != 65535].size}')"
   ]
  },
  {
   "cell_type": "code",
   "execution_count": null,
   "id": "14a07f02-f2d8-45b6-ab73-bdccb2ab6319",
   "metadata": {},
   "outputs": [],
   "source": []
  }
 ],
 "metadata": {
  "kernelspec": {
   "display_name": "Python 3 (ipykernel)",
   "language": "python",
   "name": "python3"
  },
  "language_info": {
   "codemirror_mode": {
    "name": "ipython",
    "version": 3
   },
   "file_extension": ".py",
   "mimetype": "text/x-python",
   "name": "python",
   "nbconvert_exporter": "python",
   "pygments_lexer": "ipython3",
   "version": "3.9.4"
  }
 },
 "nbformat": 4,
 "nbformat_minor": 5
}
